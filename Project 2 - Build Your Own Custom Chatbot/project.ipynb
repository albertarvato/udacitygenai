{
 "cells": [
  {
   "cell_type": "markdown",
   "id": "6fea8b33",
   "metadata": {},
   "source": [
    "# Project 2 - Build Your Own Custom Chatbot"
   ]
  },
  {
   "attachments": {},
   "cell_type": "markdown",
   "id": "2a4a94b3",
   "metadata": {},
   "source": [
    "Decided to use `2023_fashion_trends.csv` dataset for this project because the cutoff of gpt-3.5 is in 2021 thus lacking recent fashion trends. "
   ]
  },
  {
   "cell_type": "code",
   "execution_count": 85,
   "id": "3f688d1e",
   "metadata": {},
   "outputs": [
    {
     "name": "stdout",
     "output_type": "stream",
     "text": [
      "Requirement already satisfied: openai>=1.10.0 in c:\\users\\conta\\appdata\\local\\programs\\python\\python313\\lib\\site-packages (from -r requirements.txt (line 1)) (1.99.7)\n",
      "Requirement already satisfied: pandas in c:\\users\\conta\\appdata\\local\\programs\\python\\python313\\lib\\site-packages (from -r requirements.txt (line 2)) (2.3.1)\n",
      "Requirement already satisfied: anyio<5,>=3.5.0 in c:\\users\\conta\\appdata\\local\\programs\\python\\python313\\lib\\site-packages (from openai>=1.10.0->-r requirements.txt (line 1)) (4.10.0)\n",
      "Requirement already satisfied: distro<2,>=1.7.0 in c:\\users\\conta\\appdata\\local\\programs\\python\\python313\\lib\\site-packages (from openai>=1.10.0->-r requirements.txt (line 1)) (1.9.0)\n",
      "Requirement already satisfied: httpx<1,>=0.23.0 in c:\\users\\conta\\appdata\\local\\programs\\python\\python313\\lib\\site-packages (from openai>=1.10.0->-r requirements.txt (line 1)) (0.28.1)\n",
      "Requirement already satisfied: jiter<1,>=0.4.0 in c:\\users\\conta\\appdata\\local\\programs\\python\\python313\\lib\\site-packages (from openai>=1.10.0->-r requirements.txt (line 1)) (0.10.0)\n",
      "Requirement already satisfied: pydantic<3,>=1.9.0 in c:\\users\\conta\\appdata\\local\\programs\\python\\python313\\lib\\site-packages (from openai>=1.10.0->-r requirements.txt (line 1)) (2.11.7)\n",
      "Requirement already satisfied: sniffio in c:\\users\\conta\\appdata\\local\\programs\\python\\python313\\lib\\site-packages (from openai>=1.10.0->-r requirements.txt (line 1)) (1.3.1)\n",
      "Requirement already satisfied: tqdm>4 in c:\\users\\conta\\appdata\\local\\programs\\python\\python313\\lib\\site-packages (from openai>=1.10.0->-r requirements.txt (line 1)) (4.67.1)\n",
      "Requirement already satisfied: typing-extensions<5,>=4.11 in c:\\users\\conta\\appdata\\local\\programs\\python\\python313\\lib\\site-packages (from openai>=1.10.0->-r requirements.txt (line 1)) (4.14.1)\n",
      "Requirement already satisfied: numpy>=1.26.0 in c:\\users\\conta\\appdata\\local\\programs\\python\\python313\\lib\\site-packages (from pandas->-r requirements.txt (line 2)) (2.3.2)\n",
      "Requirement already satisfied: python-dateutil>=2.8.2 in c:\\users\\conta\\appdata\\roaming\\python\\python313\\site-packages (from pandas->-r requirements.txt (line 2)) (2.9.0.post0)\n",
      "Requirement already satisfied: pytz>=2020.1 in c:\\users\\conta\\appdata\\local\\programs\\python\\python313\\lib\\site-packages (from pandas->-r requirements.txt (line 2)) (2025.2)\n",
      "Requirement already satisfied: tzdata>=2022.7 in c:\\users\\conta\\appdata\\local\\programs\\python\\python313\\lib\\site-packages (from pandas->-r requirements.txt (line 2)) (2025.2)\n",
      "Requirement already satisfied: idna>=2.8 in c:\\users\\conta\\appdata\\local\\programs\\python\\python313\\lib\\site-packages (from anyio<5,>=3.5.0->openai>=1.10.0->-r requirements.txt (line 1)) (3.10)\n",
      "Requirement already satisfied: certifi in c:\\users\\conta\\appdata\\local\\programs\\python\\python313\\lib\\site-packages (from httpx<1,>=0.23.0->openai>=1.10.0->-r requirements.txt (line 1)) (2025.8.3)\n",
      "Requirement already satisfied: httpcore==1.* in c:\\users\\conta\\appdata\\local\\programs\\python\\python313\\lib\\site-packages (from httpx<1,>=0.23.0->openai>=1.10.0->-r requirements.txt (line 1)) (1.0.9)\n",
      "Requirement already satisfied: h11>=0.16 in c:\\users\\conta\\appdata\\local\\programs\\python\\python313\\lib\\site-packages (from httpcore==1.*->httpx<1,>=0.23.0->openai>=1.10.0->-r requirements.txt (line 1)) (0.16.0)\n",
      "Requirement already satisfied: annotated-types>=0.6.0 in c:\\users\\conta\\appdata\\local\\programs\\python\\python313\\lib\\site-packages (from pydantic<3,>=1.9.0->openai>=1.10.0->-r requirements.txt (line 1)) (0.7.0)\n",
      "Requirement already satisfied: pydantic-core==2.33.2 in c:\\users\\conta\\appdata\\local\\programs\\python\\python313\\lib\\site-packages (from pydantic<3,>=1.9.0->openai>=1.10.0->-r requirements.txt (line 1)) (2.33.2)\n",
      "Requirement already satisfied: typing-inspection>=0.4.0 in c:\\users\\conta\\appdata\\local\\programs\\python\\python313\\lib\\site-packages (from pydantic<3,>=1.9.0->openai>=1.10.0->-r requirements.txt (line 1)) (0.4.1)\n",
      "Requirement already satisfied: six>=1.5 in c:\\users\\conta\\appdata\\roaming\\python\\python313\\site-packages (from python-dateutil>=2.8.2->pandas->-r requirements.txt (line 2)) (1.17.0)\n",
      "Requirement already satisfied: colorama in c:\\users\\conta\\appdata\\roaming\\python\\python313\\site-packages (from tqdm>4->openai>=1.10.0->-r requirements.txt (line 1)) (0.4.6)\n",
      "Note: you may need to restart the kernel to use updated packages.\n"
     ]
    },
    {
     "name": "stderr",
     "output_type": "stream",
     "text": [
      "\n",
      "[notice] A new release of pip is available: 24.3.1 -> 25.2\n",
      "[notice] To update, run: python.exe -m pip install --upgrade pip\n"
     ]
    }
   ],
   "source": [
    "# install requirements.txt\n",
    "%pip install -r requirements.txt"
   ]
  },
  {
   "cell_type": "markdown",
   "id": "a63d4c5f",
   "metadata": {},
   "source": [
    "## Data wrangling\n",
    "\n",
    "Plan:\n",
    "- Inspect shape, columns, and null counts\n",
    "- Clean the `Trends` text into a normalized `text` column\n",
    "- Preview a few cleaned examples\n"
   ]
  },
  {
   "cell_type": "code",
   "execution_count": 86,
   "id": "c69b83a1",
   "metadata": {},
   "outputs": [],
   "source": [
    "import os\n",
    "import time\n",
    "import traceback\n",
    "import pandas as pd\n",
    "\n",
    "# Debug utilities\n",
    "DEBUG = True\n",
    "\n",
    "def debug_print(*args, **kwargs):\n",
    "    if DEBUG:\n",
    "        print(*args, **kwargs)\n",
    "\n",
    "pd.set_option(\"display.max_colwidth\", 200)"
   ]
  },
  {
   "cell_type": "code",
   "execution_count": 87,
   "id": "78d848df",
   "metadata": {},
   "outputs": [
    {
     "name": "stdout",
     "output_type": "stream",
     "text": [
      "Loaded dataframe with shape: (82, 3)\n",
      "Columns: ['URL', 'Trends', 'Source']\n",
      "Null counts: {'URL': 0, 'Trends': 0, 'Source': 0}\n",
      "First 2 rows:\n",
      "                                                    URL  \\\n",
      "0  https://www.refinery29.com/en-us/fashion-trends-2023   \n",
      "1  https://www.refinery29.com/en-us/fashion-trends-2023   \n",
      "\n",
      "                                                                                                                                                                                                    Trends  \\\n",
      "0  2023 Fashion Trend: Red. Glossy red hues took over the Fall 2023 runways ranging from Sandy Liang and PatBo to Tory Burch and Wiederhoeft. Think: Juicy reds with vibrant orange undertones that wou...   \n",
      "1  2023 Fashion Trend: Cargo Pants. Utilitarian wear is in for 2023, which sets the stage for the return of the cargo pant. But these aren't the shapeless, low-rise pants of the Y2K era. For spring, ...   \n",
      "\n",
      "                                                      Source  \n",
      "0  7 Fashion Trends That Will Take Over 2023 — Shop Them Now  \n",
      "1  7 Fashion Trends That Will Take Over 2023 — Shop Them Now  \n"
     ]
    },
    {
     "data": {
      "text/html": [
       "<div>\n",
       "<style scoped>\n",
       "    .dataframe tbody tr th:only-of-type {\n",
       "        vertical-align: middle;\n",
       "    }\n",
       "\n",
       "    .dataframe tbody tr th {\n",
       "        vertical-align: top;\n",
       "    }\n",
       "\n",
       "    .dataframe thead th {\n",
       "        text-align: right;\n",
       "    }\n",
       "</style>\n",
       "<table border=\"1\" class=\"dataframe\">\n",
       "  <thead>\n",
       "    <tr style=\"text-align: right;\">\n",
       "      <th></th>\n",
       "      <th>URL</th>\n",
       "      <th>Trends</th>\n",
       "      <th>Source</th>\n",
       "    </tr>\n",
       "  </thead>\n",
       "  <tbody>\n",
       "    <tr>\n",
       "      <th>0</th>\n",
       "      <td>https://www.refinery29.com/en-us/fashion-trends-2023</td>\n",
       "      <td>2023 Fashion Trend: Red. Glossy red hues took over the Fall 2023 runways ranging from Sandy Liang and PatBo to Tory Burch and Wiederhoeft. Think: Juicy reds with vibrant orange undertones that wou...</td>\n",
       "      <td>7 Fashion Trends That Will Take Over 2023 — Shop Them Now</td>\n",
       "    </tr>\n",
       "    <tr>\n",
       "      <th>1</th>\n",
       "      <td>https://www.refinery29.com/en-us/fashion-trends-2023</td>\n",
       "      <td>2023 Fashion Trend: Cargo Pants. Utilitarian wear is in for 2023, which sets the stage for the return of the cargo pant. But these aren't the shapeless, low-rise pants of the Y2K era. For spring, ...</td>\n",
       "      <td>7 Fashion Trends That Will Take Over 2023 — Shop Them Now</td>\n",
       "    </tr>\n",
       "    <tr>\n",
       "      <th>2</th>\n",
       "      <td>https://www.refinery29.com/en-us/fashion-trends-2023</td>\n",
       "      <td>2023 Fashion Trend: Sheer Clothing. \"Bare it all\" has been the motto since the end of the lockdown. In 2023,  naked dressing makes its way from the red carpet – where celebrities like Cher and Rih...</td>\n",
       "      <td>7 Fashion Trends That Will Take Over 2023 — Shop Them Now</td>\n",
       "    </tr>\n",
       "    <tr>\n",
       "      <th>3</th>\n",
       "      <td>https://www.refinery29.com/en-us/fashion-trends-2023</td>\n",
       "      <td>2023 Fashion Trend: Denim Reimagined. From double-waisted jeans to carpenter jeans, it's been a while since we were this excited about denim trends. It seems like even the most luxe runway designe...</td>\n",
       "      <td>7 Fashion Trends That Will Take Over 2023 — Shop Them Now</td>\n",
       "    </tr>\n",
       "    <tr>\n",
       "      <th>4</th>\n",
       "      <td>https://www.refinery29.com/en-us/fashion-trends-2023</td>\n",
       "      <td>2023 Fashion Trend: Shine For The Daytime. The amount of shine on the 2023 runways would make you think we are back in the Roaring '20s. While sequins may feel over as soon as the clock strikes mi...</td>\n",
       "      <td>7 Fashion Trends That Will Take Over 2023 — Shop Them Now</td>\n",
       "    </tr>\n",
       "    <tr>\n",
       "      <th>...</th>\n",
       "      <td>...</td>\n",
       "      <td>...</td>\n",
       "      <td>...</td>\n",
       "    </tr>\n",
       "    <tr>\n",
       "      <th>77</th>\n",
       "      <td>https://www.whowhatwear.com/spring-summer-2023-fashion-trends/</td>\n",
       "      <td>If lime green isn't your vibe, rest assured there was another bold hue that practically jumped off the runway and my screen, which was evident from the moment I began this lengthy research process...</td>\n",
       "      <td>Spring/Summer 2023 Fashion Trends: 21 Expert-Approved Looks You Need to See</td>\n",
       "    </tr>\n",
       "    <tr>\n",
       "      <th>78</th>\n",
       "      <td>https://www.whowhatwear.com/spring-summer-2023-fashion-trends/</td>\n",
       "      <td>\"As someone who can clearly (not fondly) remember their first bra fitting, which resulted in the teary-eyed purchase of what could only be described at the time as 'over-shoulder boulder holders,'...</td>\n",
       "      <td>Spring/Summer 2023 Fashion Trends: 21 Expert-Approved Looks You Need to See</td>\n",
       "    </tr>\n",
       "    <tr>\n",
       "      <th>79</th>\n",
       "      <td>https://www.whowhatwear.com/spring-summer-2023-fashion-trends/</td>\n",
       "      <td>\"Combine this design shift with the fact that we're moving into a fifth wave of feminism where many predisposed notions and ideologies tied up with previous movements are being flipped on their he...</td>\n",
       "      <td>Spring/Summer 2023 Fashion Trends: 21 Expert-Approved Looks You Need to See</td>\n",
       "    </tr>\n",
       "    <tr>\n",
       "      <th>80</th>\n",
       "      <td>https://www.whowhatwear.com/spring-summer-2023-fashion-trends/</td>\n",
       "      <td>Thought party season ended at the stroke of midnight on December 31? Think again! The spring/summer runways bear a striking resemblance to all of my favourite coming-of-age movies from the '80s—Si...</td>\n",
       "      <td>Spring/Summer 2023 Fashion Trends: 21 Expert-Approved Looks You Need to See</td>\n",
       "    </tr>\n",
       "    <tr>\n",
       "      <th>81</th>\n",
       "      <td>https://www.whowhatwear.com/spring-summer-2023-fashion-trends/</td>\n",
       "      <td>\"This season, we saw the revival of the bubble skirt. Styled with printed snakeskin and powerful shoulders at Khaite, longer versions at Proenza Schouler reimagined with a low-waist silhouette and...</td>\n",
       "      <td>Spring/Summer 2023 Fashion Trends: 21 Expert-Approved Looks You Need to See</td>\n",
       "    </tr>\n",
       "  </tbody>\n",
       "</table>\n",
       "<p>82 rows × 3 columns</p>\n",
       "</div>"
      ],
      "text/plain": [
       "                                                               URL  \\\n",
       "0             https://www.refinery29.com/en-us/fashion-trends-2023   \n",
       "1             https://www.refinery29.com/en-us/fashion-trends-2023   \n",
       "2             https://www.refinery29.com/en-us/fashion-trends-2023   \n",
       "3             https://www.refinery29.com/en-us/fashion-trends-2023   \n",
       "4             https://www.refinery29.com/en-us/fashion-trends-2023   \n",
       "..                                                             ...   \n",
       "77  https://www.whowhatwear.com/spring-summer-2023-fashion-trends/   \n",
       "78  https://www.whowhatwear.com/spring-summer-2023-fashion-trends/   \n",
       "79  https://www.whowhatwear.com/spring-summer-2023-fashion-trends/   \n",
       "80  https://www.whowhatwear.com/spring-summer-2023-fashion-trends/   \n",
       "81  https://www.whowhatwear.com/spring-summer-2023-fashion-trends/   \n",
       "\n",
       "                                                                                                                                                                                                     Trends  \\\n",
       "0   2023 Fashion Trend: Red. Glossy red hues took over the Fall 2023 runways ranging from Sandy Liang and PatBo to Tory Burch and Wiederhoeft. Think: Juicy reds with vibrant orange undertones that wou...   \n",
       "1   2023 Fashion Trend: Cargo Pants. Utilitarian wear is in for 2023, which sets the stage for the return of the cargo pant. But these aren't the shapeless, low-rise pants of the Y2K era. For spring, ...   \n",
       "2   2023 Fashion Trend: Sheer Clothing. \"Bare it all\" has been the motto since the end of the lockdown. In 2023,  naked dressing makes its way from the red carpet – where celebrities like Cher and Rih...   \n",
       "3   2023 Fashion Trend: Denim Reimagined. From double-waisted jeans to carpenter jeans, it's been a while since we were this excited about denim trends. It seems like even the most luxe runway designe...   \n",
       "4   2023 Fashion Trend: Shine For The Daytime. The amount of shine on the 2023 runways would make you think we are back in the Roaring '20s. While sequins may feel over as soon as the clock strikes mi...   \n",
       "..                                                                                                                                                                                                      ...   \n",
       "77  If lime green isn't your vibe, rest assured there was another bold hue that practically jumped off the runway and my screen, which was evident from the moment I began this lengthy research process...   \n",
       "78  \"As someone who can clearly (not fondly) remember their first bra fitting, which resulted in the teary-eyed purchase of what could only be described at the time as 'over-shoulder boulder holders,'...   \n",
       "79  \"Combine this design shift with the fact that we're moving into a fifth wave of feminism where many predisposed notions and ideologies tied up with previous movements are being flipped on their he...   \n",
       "80  Thought party season ended at the stroke of midnight on December 31? Think again! The spring/summer runways bear a striking resemblance to all of my favourite coming-of-age movies from the '80s—Si...   \n",
       "81  \"This season, we saw the revival of the bubble skirt. Styled with printed snakeskin and powerful shoulders at Khaite, longer versions at Proenza Schouler reimagined with a low-waist silhouette and...   \n",
       "\n",
       "                                                                         Source  \n",
       "0                     7 Fashion Trends That Will Take Over 2023 — Shop Them Now  \n",
       "1                     7 Fashion Trends That Will Take Over 2023 — Shop Them Now  \n",
       "2                     7 Fashion Trends That Will Take Over 2023 — Shop Them Now  \n",
       "3                     7 Fashion Trends That Will Take Over 2023 — Shop Them Now  \n",
       "4                     7 Fashion Trends That Will Take Over 2023 — Shop Them Now  \n",
       "..                                                                          ...  \n",
       "77  Spring/Summer 2023 Fashion Trends: 21 Expert-Approved Looks You Need to See  \n",
       "78  Spring/Summer 2023 Fashion Trends: 21 Expert-Approved Looks You Need to See  \n",
       "79  Spring/Summer 2023 Fashion Trends: 21 Expert-Approved Looks You Need to See  \n",
       "80  Spring/Summer 2023 Fashion Trends: 21 Expert-Approved Looks You Need to See  \n",
       "81  Spring/Summer 2023 Fashion Trends: 21 Expert-Approved Looks You Need to See  \n",
       "\n",
       "[82 rows x 3 columns]"
      ]
     },
     "execution_count": 87,
     "metadata": {},
     "output_type": "execute_result"
    }
   ],
   "source": [
    "df = pd.read_csv(\"data/2023_fashion_trends.csv\")\n",
    "debug_print(f\"Loaded dataframe with shape: {df.shape}\")\n",
    "debug_print(f\"Columns: {list(df.columns)}\")\n",
    "debug_print(\"Null counts:\", df.isnull().sum().to_dict())\n",
    "debug_print(\"First 2 rows:\")\n",
    "debug_print(df.head(2))\n",
    "df"
   ]
  },
  {
   "cell_type": "markdown",
   "id": "693411e7",
   "metadata": {},
   "source": [
    "The data has three columns:\n",
    "\n",
    "- **URL**: the webpage where the trend information is sourced\n",
    "- **Trends**: a text description of a specific fashion trend\n",
    "- **Source**: the name/title of the article, blog post, or publication\n",
    "\n",
    "We will focus on `Trends` and create a cleaned `text` column for prompting.\n",
    "\n",
    "Tip: debug prints above show shape, columns and null counts to quickly catch data issues."
   ]
  },
  {
   "cell_type": "code",
   "execution_count": 88,
   "id": "eebf01aa",
   "metadata": {},
   "outputs": [
    {
     "data": {
      "text/plain": [
       "'2023 Fashion Trend: Red. Glossy red hues took over the Fall 2023 runways ranging from Sandy Liang and PatBo to Tory Burch and Wiederhoeft. Think: Juicy reds with vibrant orange undertones that would look just as good in head-to-toe looks (see: a pantsuit) as accent accessory pieces (shoes, handbags, jewelry).'"
      ]
     },
     "execution_count": 88,
     "metadata": {},
     "output_type": "execute_result"
    }
   ],
   "source": [
    "df[\"Trends\"][0]"
   ]
  },
  {
   "cell_type": "code",
   "execution_count": 89,
   "id": "acb3a9fd",
   "metadata": {},
   "outputs": [
    {
     "data": {
      "text/plain": [
       "'\"As someone who can clearly (not fondly) remember their first bra fitting, which resulted in the teary-eyed purchase of what could only be described at the time as \\'over-shoulder boulder holders,\\' it\\'s surprising that I\\'d now find myself backing this brassiere-revealing trend. Or perhaps that\\'s the point! Lingerie styles for big (and small) cups have improved vastly over the past 10 years, so why not celebrate it?\" says Almassi.'"
      ]
     },
     "execution_count": 89,
     "metadata": {},
     "output_type": "execute_result"
    }
   ],
   "source": [
    "df[\"Trends\"][78]"
   ]
  },
  {
   "cell_type": "markdown",
   "id": "33a700a0",
   "metadata": {},
   "source": [
    "We will normalize the `Trends` text (remove stray characters, collapse whitespace) and store the result in a new `text` column."
   ]
  },
  {
   "cell_type": "code",
   "execution_count": 90,
   "id": "93325f9c",
   "metadata": {},
   "outputs": [
    {
     "name": "stdout",
     "output_type": "stream",
     "text": [
      "Sample clean_text before/after (first 3):\n",
      "1. before: 2023 Fashion Trend: Red. Glossy red hues took over the Fall 2023 runways ranging from Sandy Liang and PatBo to Tory Burc...\n",
      "   after : 2023 Fashion Trend: Red. Glossy red hues took over the Fall 2023 runways ranging from Sandy Liang and PatBo to Tory Burc...\n",
      "2. before: 2023 Fashion Trend: Cargo Pants. Utilitarian wear is in for 2023, which sets the stage for the return of the cargo pant....\n",
      "   after : 2023 Fashion Trend: Cargo Pants. Utilitarian wear is in for 2023, which sets the stage for the return of the cargo pant....\n",
      "3. before: 2023 Fashion Trend: Sheer Clothing. \"Bare it all\" has been the motto since the end of the lockdown. In 2023,  naked dres...\n",
      "   after : 2023 Fashion Trend: Sheer Clothing. \"Bare it all\" has been the motto since the end of the lockdown. In 2023, naked dress...\n"
     ]
    }
   ],
   "source": [
    "import re\n",
    "\n",
    "def clean_text(text: str) -> str:\n",
    "    \"\"\"\n",
    "    Normalize a trend snippet:\n",
    "    - Remove stray backslashes\n",
    "    - Strip non-standard chars (keep letters, digits, punctuation, whitespace)\n",
    "    - Collapse repeated whitespace\n",
    "    \"\"\"\n",
    "    if pd.isna(text):\n",
    "        return \"\"\n",
    "    text = str(text).replace(\"\\\\\", \"\")\n",
    "    cleaned = re.sub(r\"[^a-zA-Z0-9\\s.,'\\\"!?;:()-]\", \"\", text)\n",
    "    cleaned = re.sub(r\"\\s+\", \" \", cleaned).strip()\n",
    "    return cleaned\n",
    "\n",
    "# Apply cleaning with lightweight debugging\n",
    "sample_before = df[\"Trends\"].astype(str).head(3).tolist()\n",
    "df[\"text\"] = df[\"Trends\"].apply(clean_text)\n",
    "sample_after = df[\"text\"].head(3).tolist()\n",
    "debug_print(\"Sample clean_text before/after (first 3):\")\n",
    "for i, (b, a) in enumerate(zip(sample_before, sample_after), 1):\n",
    "    debug_print(f\"{i}. before: {b[:120]}...\")\n",
    "    debug_print(f\"   after : {a[:120]}...\")"
   ]
  },
  {
   "cell_type": "code",
   "execution_count": 91,
   "id": "22282b99",
   "metadata": {},
   "outputs": [
    {
     "data": {
      "text/html": [
       "<div>\n",
       "<style scoped>\n",
       "    .dataframe tbody tr th:only-of-type {\n",
       "        vertical-align: middle;\n",
       "    }\n",
       "\n",
       "    .dataframe tbody tr th {\n",
       "        vertical-align: top;\n",
       "    }\n",
       "\n",
       "    .dataframe thead th {\n",
       "        text-align: right;\n",
       "    }\n",
       "</style>\n",
       "<table border=\"1\" class=\"dataframe\">\n",
       "  <thead>\n",
       "    <tr style=\"text-align: right;\">\n",
       "      <th></th>\n",
       "      <th>URL</th>\n",
       "      <th>Trends</th>\n",
       "      <th>Source</th>\n",
       "      <th>text</th>\n",
       "    </tr>\n",
       "  </thead>\n",
       "  <tbody>\n",
       "    <tr>\n",
       "      <th>0</th>\n",
       "      <td>https://www.refinery29.com/en-us/fashion-trends-2023</td>\n",
       "      <td>2023 Fashion Trend: Red. Glossy red hues took over the Fall 2023 runways ranging from Sandy Liang and PatBo to Tory Burch and Wiederhoeft. Think: Juicy reds with vibrant orange undertones that wou...</td>\n",
       "      <td>7 Fashion Trends That Will Take Over 2023 — Shop Them Now</td>\n",
       "      <td>2023 Fashion Trend: Red. Glossy red hues took over the Fall 2023 runways ranging from Sandy Liang and PatBo to Tory Burch and Wiederhoeft. Think: Juicy reds with vibrant orange undertones that wou...</td>\n",
       "    </tr>\n",
       "    <tr>\n",
       "      <th>1</th>\n",
       "      <td>https://www.refinery29.com/en-us/fashion-trends-2023</td>\n",
       "      <td>2023 Fashion Trend: Cargo Pants. Utilitarian wear is in for 2023, which sets the stage for the return of the cargo pant. But these aren't the shapeless, low-rise pants of the Y2K era. For spring, ...</td>\n",
       "      <td>7 Fashion Trends That Will Take Over 2023 — Shop Them Now</td>\n",
       "      <td>2023 Fashion Trend: Cargo Pants. Utilitarian wear is in for 2023, which sets the stage for the return of the cargo pant. But these aren't the shapeless, low-rise pants of the Y2K era. For spring, ...</td>\n",
       "    </tr>\n",
       "    <tr>\n",
       "      <th>2</th>\n",
       "      <td>https://www.refinery29.com/en-us/fashion-trends-2023</td>\n",
       "      <td>2023 Fashion Trend: Sheer Clothing. \"Bare it all\" has been the motto since the end of the lockdown. In 2023,  naked dressing makes its way from the red carpet – where celebrities like Cher and Rih...</td>\n",
       "      <td>7 Fashion Trends That Will Take Over 2023 — Shop Them Now</td>\n",
       "      <td>2023 Fashion Trend: Sheer Clothing. \"Bare it all\" has been the motto since the end of the lockdown. In 2023, naked dressing makes its way from the red carpet where celebrities like Cher and Rihann...</td>\n",
       "    </tr>\n",
       "    <tr>\n",
       "      <th>3</th>\n",
       "      <td>https://www.refinery29.com/en-us/fashion-trends-2023</td>\n",
       "      <td>2023 Fashion Trend: Denim Reimagined. From double-waisted jeans to carpenter jeans, it's been a while since we were this excited about denim trends. It seems like even the most luxe runway designe...</td>\n",
       "      <td>7 Fashion Trends That Will Take Over 2023 — Shop Them Now</td>\n",
       "      <td>2023 Fashion Trend: Denim Reimagined. From double-waisted jeans to carpenter jeans, it's been a while since we were this excited about denim trends. It seems like even the most luxe runway designe...</td>\n",
       "    </tr>\n",
       "    <tr>\n",
       "      <th>4</th>\n",
       "      <td>https://www.refinery29.com/en-us/fashion-trends-2023</td>\n",
       "      <td>2023 Fashion Trend: Shine For The Daytime. The amount of shine on the 2023 runways would make you think we are back in the Roaring '20s. While sequins may feel over as soon as the clock strikes mi...</td>\n",
       "      <td>7 Fashion Trends That Will Take Over 2023 — Shop Them Now</td>\n",
       "      <td>2023 Fashion Trend: Shine For The Daytime. The amount of shine on the 2023 runways would make you think we are back in the Roaring '20s. While sequins may feel over as soon as the clock strikes mi...</td>\n",
       "    </tr>\n",
       "    <tr>\n",
       "      <th>...</th>\n",
       "      <td>...</td>\n",
       "      <td>...</td>\n",
       "      <td>...</td>\n",
       "      <td>...</td>\n",
       "    </tr>\n",
       "    <tr>\n",
       "      <th>77</th>\n",
       "      <td>https://www.whowhatwear.com/spring-summer-2023-fashion-trends/</td>\n",
       "      <td>If lime green isn't your vibe, rest assured there was another bold hue that practically jumped off the runway and my screen, which was evident from the moment I began this lengthy research process...</td>\n",
       "      <td>Spring/Summer 2023 Fashion Trends: 21 Expert-Approved Looks You Need to See</td>\n",
       "      <td>If lime green isn't your vibe, rest assured there was another bold hue that practically jumped off the runway and my screen, which was evident from the moment I began this lengthy research process...</td>\n",
       "    </tr>\n",
       "    <tr>\n",
       "      <th>78</th>\n",
       "      <td>https://www.whowhatwear.com/spring-summer-2023-fashion-trends/</td>\n",
       "      <td>\"As someone who can clearly (not fondly) remember their first bra fitting, which resulted in the teary-eyed purchase of what could only be described at the time as 'over-shoulder boulder holders,'...</td>\n",
       "      <td>Spring/Summer 2023 Fashion Trends: 21 Expert-Approved Looks You Need to See</td>\n",
       "      <td>\"As someone who can clearly (not fondly) remember their first bra fitting, which resulted in the teary-eyed purchase of what could only be described at the time as 'over-shoulder boulder holders,'...</td>\n",
       "    </tr>\n",
       "    <tr>\n",
       "      <th>79</th>\n",
       "      <td>https://www.whowhatwear.com/spring-summer-2023-fashion-trends/</td>\n",
       "      <td>\"Combine this design shift with the fact that we're moving into a fifth wave of feminism where many predisposed notions and ideologies tied up with previous movements are being flipped on their he...</td>\n",
       "      <td>Spring/Summer 2023 Fashion Trends: 21 Expert-Approved Looks You Need to See</td>\n",
       "      <td>\"Combine this design shift with the fact that we're moving into a fifth wave of feminism where many predisposed notions and ideologies tied up with previous movements are being flipped on their he...</td>\n",
       "    </tr>\n",
       "    <tr>\n",
       "      <th>80</th>\n",
       "      <td>https://www.whowhatwear.com/spring-summer-2023-fashion-trends/</td>\n",
       "      <td>Thought party season ended at the stroke of midnight on December 31? Think again! The spring/summer runways bear a striking resemblance to all of my favourite coming-of-age movies from the '80s—Si...</td>\n",
       "      <td>Spring/Summer 2023 Fashion Trends: 21 Expert-Approved Looks You Need to See</td>\n",
       "      <td>Thought party season ended at the stroke of midnight on December 31? Think again! The springsummer runways bear a striking resemblance to all of my favourite coming-of-age movies from the '80sSixt...</td>\n",
       "    </tr>\n",
       "    <tr>\n",
       "      <th>81</th>\n",
       "      <td>https://www.whowhatwear.com/spring-summer-2023-fashion-trends/</td>\n",
       "      <td>\"This season, we saw the revival of the bubble skirt. Styled with printed snakeskin and powerful shoulders at Khaite, longer versions at Proenza Schouler reimagined with a low-waist silhouette and...</td>\n",
       "      <td>Spring/Summer 2023 Fashion Trends: 21 Expert-Approved Looks You Need to See</td>\n",
       "      <td>\"This season, we saw the revival of the bubble skirt. Styled with printed snakeskin and powerful shoulders at Khaite, longer versions at Proenza Schouler reimagined with a low-waist silhouette and...</td>\n",
       "    </tr>\n",
       "  </tbody>\n",
       "</table>\n",
       "<p>82 rows × 4 columns</p>\n",
       "</div>"
      ],
      "text/plain": [
       "                                                               URL  \\\n",
       "0             https://www.refinery29.com/en-us/fashion-trends-2023   \n",
       "1             https://www.refinery29.com/en-us/fashion-trends-2023   \n",
       "2             https://www.refinery29.com/en-us/fashion-trends-2023   \n",
       "3             https://www.refinery29.com/en-us/fashion-trends-2023   \n",
       "4             https://www.refinery29.com/en-us/fashion-trends-2023   \n",
       "..                                                             ...   \n",
       "77  https://www.whowhatwear.com/spring-summer-2023-fashion-trends/   \n",
       "78  https://www.whowhatwear.com/spring-summer-2023-fashion-trends/   \n",
       "79  https://www.whowhatwear.com/spring-summer-2023-fashion-trends/   \n",
       "80  https://www.whowhatwear.com/spring-summer-2023-fashion-trends/   \n",
       "81  https://www.whowhatwear.com/spring-summer-2023-fashion-trends/   \n",
       "\n",
       "                                                                                                                                                                                                     Trends  \\\n",
       "0   2023 Fashion Trend: Red. Glossy red hues took over the Fall 2023 runways ranging from Sandy Liang and PatBo to Tory Burch and Wiederhoeft. Think: Juicy reds with vibrant orange undertones that wou...   \n",
       "1   2023 Fashion Trend: Cargo Pants. Utilitarian wear is in for 2023, which sets the stage for the return of the cargo pant. But these aren't the shapeless, low-rise pants of the Y2K era. For spring, ...   \n",
       "2   2023 Fashion Trend: Sheer Clothing. \"Bare it all\" has been the motto since the end of the lockdown. In 2023,  naked dressing makes its way from the red carpet – where celebrities like Cher and Rih...   \n",
       "3   2023 Fashion Trend: Denim Reimagined. From double-waisted jeans to carpenter jeans, it's been a while since we were this excited about denim trends. It seems like even the most luxe runway designe...   \n",
       "4   2023 Fashion Trend: Shine For The Daytime. The amount of shine on the 2023 runways would make you think we are back in the Roaring '20s. While sequins may feel over as soon as the clock strikes mi...   \n",
       "..                                                                                                                                                                                                      ...   \n",
       "77  If lime green isn't your vibe, rest assured there was another bold hue that practically jumped off the runway and my screen, which was evident from the moment I began this lengthy research process...   \n",
       "78  \"As someone who can clearly (not fondly) remember their first bra fitting, which resulted in the teary-eyed purchase of what could only be described at the time as 'over-shoulder boulder holders,'...   \n",
       "79  \"Combine this design shift with the fact that we're moving into a fifth wave of feminism where many predisposed notions and ideologies tied up with previous movements are being flipped on their he...   \n",
       "80  Thought party season ended at the stroke of midnight on December 31? Think again! The spring/summer runways bear a striking resemblance to all of my favourite coming-of-age movies from the '80s—Si...   \n",
       "81  \"This season, we saw the revival of the bubble skirt. Styled with printed snakeskin and powerful shoulders at Khaite, longer versions at Proenza Schouler reimagined with a low-waist silhouette and...   \n",
       "\n",
       "                                                                         Source  \\\n",
       "0                     7 Fashion Trends That Will Take Over 2023 — Shop Them Now   \n",
       "1                     7 Fashion Trends That Will Take Over 2023 — Shop Them Now   \n",
       "2                     7 Fashion Trends That Will Take Over 2023 — Shop Them Now   \n",
       "3                     7 Fashion Trends That Will Take Over 2023 — Shop Them Now   \n",
       "4                     7 Fashion Trends That Will Take Over 2023 — Shop Them Now   \n",
       "..                                                                          ...   \n",
       "77  Spring/Summer 2023 Fashion Trends: 21 Expert-Approved Looks You Need to See   \n",
       "78  Spring/Summer 2023 Fashion Trends: 21 Expert-Approved Looks You Need to See   \n",
       "79  Spring/Summer 2023 Fashion Trends: 21 Expert-Approved Looks You Need to See   \n",
       "80  Spring/Summer 2023 Fashion Trends: 21 Expert-Approved Looks You Need to See   \n",
       "81  Spring/Summer 2023 Fashion Trends: 21 Expert-Approved Looks You Need to See   \n",
       "\n",
       "                                                                                                                                                                                                       text  \n",
       "0   2023 Fashion Trend: Red. Glossy red hues took over the Fall 2023 runways ranging from Sandy Liang and PatBo to Tory Burch and Wiederhoeft. Think: Juicy reds with vibrant orange undertones that wou...  \n",
       "1   2023 Fashion Trend: Cargo Pants. Utilitarian wear is in for 2023, which sets the stage for the return of the cargo pant. But these aren't the shapeless, low-rise pants of the Y2K era. For spring, ...  \n",
       "2   2023 Fashion Trend: Sheer Clothing. \"Bare it all\" has been the motto since the end of the lockdown. In 2023, naked dressing makes its way from the red carpet where celebrities like Cher and Rihann...  \n",
       "3   2023 Fashion Trend: Denim Reimagined. From double-waisted jeans to carpenter jeans, it's been a while since we were this excited about denim trends. It seems like even the most luxe runway designe...  \n",
       "4   2023 Fashion Trend: Shine For The Daytime. The amount of shine on the 2023 runways would make you think we are back in the Roaring '20s. While sequins may feel over as soon as the clock strikes mi...  \n",
       "..                                                                                                                                                                                                      ...  \n",
       "77  If lime green isn't your vibe, rest assured there was another bold hue that practically jumped off the runway and my screen, which was evident from the moment I began this lengthy research process...  \n",
       "78  \"As someone who can clearly (not fondly) remember their first bra fitting, which resulted in the teary-eyed purchase of what could only be described at the time as 'over-shoulder boulder holders,'...  \n",
       "79  \"Combine this design shift with the fact that we're moving into a fifth wave of feminism where many predisposed notions and ideologies tied up with previous movements are being flipped on their he...  \n",
       "80  Thought party season ended at the stroke of midnight on December 31? Think again! The springsummer runways bear a striking resemblance to all of my favourite coming-of-age movies from the '80sSixt...  \n",
       "81  \"This season, we saw the revival of the bubble skirt. Styled with printed snakeskin and powerful shoulders at Khaite, longer versions at Proenza Schouler reimagined with a low-waist silhouette and...  \n",
       "\n",
       "[82 rows x 4 columns]"
      ]
     },
     "execution_count": 91,
     "metadata": {},
     "output_type": "execute_result"
    }
   ],
   "source": [
    "df"
   ]
  },
  {
   "cell_type": "code",
   "execution_count": 92,
   "id": "2bdfb95d",
   "metadata": {},
   "outputs": [
    {
     "name": "stdout",
     "output_type": "stream",
     "text": [
      "\"As someone who can clearly (not fondly) remember their first bra fitting, which resulted in the teary-eyed purchase of what could only be described at the time as 'over-shoulder boulder holders,' it's surprising that I'd now find myself backing this brassiere-revealing trend. Or perhaps that's the point! Lingerie styles for big (and small) cups have improved vastly over the past 10 years, so why not celebrate it?\" says Almassi.\n"
     ]
    }
   ],
   "source": [
    "print(df[\"text\"][78])"
   ]
  },
  {
   "cell_type": "markdown",
   "id": "d3453ee8",
   "metadata": {},
   "source": [
    "## Custom query completion\n",
    "\n",
    "We build one context string from the `text` column (one line per row) and pass it to the chat model. We will compare answers with and without the context. Debug prints will show prompt sizes and request latency."
   ]
  },
  {
   "cell_type": "code",
   "execution_count": 93,
   "id": "4be0db41",
   "metadata": {},
   "outputs": [
    {
     "name": "stdout",
     "output_type": "stream",
     "text": [
      "Using base URL: https://openai.vocareum.com/v1\n",
      "API key starts with: voc-...\n"
     ]
    }
   ],
   "source": [
    "from openai import OpenAI\n",
    "\n",
    "BASE_URL = os.getenv(\"OPENAI_BASE_URL\", \"https://openai.vocareum.com/v1\")\n",
    "API_KEY = os.getenv(\"OPENAI_API_KEY\", \"\").strip()\n",
    "if not API_KEY:\n",
    "    raise ValueError(\"OPENAI_API_KEY is not set. Please set it in your environment.\")\n",
    "\n",
    "client = OpenAI(base_url=BASE_URL, api_key=API_KEY)\n",
    "\n",
    "def _obfuscate(key: str, show: int = 4) -> str:\n",
    "    return (key[:show] + \"...\") if key else \"\"\n",
    "\n",
    "debug_print(f\"Using base URL: {BASE_URL}\")\n",
    "debug_print(f\"API key starts with: {_obfuscate(API_KEY)}\")"
   ]
  },
  {
   "cell_type": "code",
   "execution_count": 94,
   "id": "d0fc9064",
   "metadata": {},
   "outputs": [
    {
     "name": "stdout",
     "output_type": "stream",
     "text": [
      "Context length (chars): 35,552\n",
      "Approx tokens (whitespace split): 5,870\n"
     ]
    },
    {
     "data": {
      "text/plain": [
       "\"2023 Fashion Trend: Red. Glossy red hues took over the Fall 2023 runways ranging from Sandy Liang and PatBo to Tory Burch and Wiederhoeft. Think: Juicy reds with vibrant orange undertones that would look just as good in head-to-toe looks (see: a pantsuit) as accent accessory pieces (shoes, handbags, jewelry).\\n\\n2023 Fashion Trend: Cargo Pants. Utilitarian wear is in for 2023, which sets the stage for the return of the cargo pant. But these aren't the shapeless, low-rise pants of the Y2K era. For \""
      ]
     },
     "execution_count": 94,
     "metadata": {},
     "output_type": "execute_result"
    }
   ],
   "source": [
    "# Build a single context string from the dataset\n",
    "context = \"\\n\\n\".join(df[\"text\"].astype(str).tolist())\n",
    "debug_print(f\"Context length (chars): {len(context):,}\")\n",
    "approx_tokens = len(context.split())\n",
    "debug_print(f\"Approx tokens (whitespace split): {approx_tokens:,}\")\n",
    "context[:500]  # preview the start of the context string"
   ]
  },
  {
   "cell_type": "markdown",
   "id": "218615df",
   "metadata": {},
   "source": [
    "### Custom Query 1"
   ]
  },
  {
   "cell_type": "code",
   "execution_count": 95,
   "id": "9128b487",
   "metadata": {},
   "outputs": [
    {
     "name": "stdout",
     "output_type": "stream",
     "text": [
      "[Q1] Prompt chars: 35,707 | Latency: 2603 ms\n",
      "Custom Query: Which 2023 fashion trend emphasizes sustainability or eco-friendly practices?\n",
      "Answer: The motion towards minimalist and simpler designs with a focus on tailored silhouettes and clean lines emphasizes sustainability or eco-friendly practices in the 2023 fashion trends. Brands like Bottega Veneta, Valentino, The Row, and Ferragamo are embracing simplicity and everyday dressing, which can indicate a move towards more sustainable and responsible fashion choices.\n"
     ]
    }
   ],
   "source": [
    "# Custom query 1\n",
    "custom_query_1 = \"Which 2023 fashion trend emphasizes sustainability or eco-friendly practices?\"\n",
    "\n",
    "prompt_1 = f\"Answer the question based on the context below.\\n\\nContext:\\n{context}\\n\\nQuestion: {custom_query_1}\\nAnswer:\"\n",
    "\n",
    "start = time.time()\n",
    "try:\n",
    "    response_1 = client.chat.completions.create(\n",
    "        model=\"gpt-3.5-turbo\",\n",
    "        messages=[{\"role\": \"user\", \"content\": prompt_1}],\n",
    "        max_tokens=150\n",
    "    )\n",
    "    latency_ms = (time.time() - start) * 1000\n",
    "    answer_1 = response_1.choices[0].message.content.strip()\n",
    "    debug_print(f\"[Q1] Prompt chars: {len(prompt_1):,} | Latency: {latency_ms:.0f} ms\")\n",
    "    print(f\"Custom Query: {custom_query_1}\")\n",
    "    print(f\"Answer: {answer_1}\")\n",
    "except Exception as e:\n",
    "    print(\"Request failed:\", e)\n",
    "    traceback.print_exc()"
   ]
  },
  {
   "cell_type": "markdown",
   "id": "decb46cc",
   "metadata": {},
   "source": [
    "### Custom Query 2"
   ]
  },
  {
   "cell_type": "code",
   "execution_count": 96,
   "id": "30f726d9",
   "metadata": {},
   "outputs": [
    {
     "name": "stdout",
     "output_type": "stream",
     "text": [
      "[Q2] Prompt chars: 35,674 | Latency: 2974 ms\n",
      "Custom Query: Summarize three notable 2023 fashion trends.\n",
      "Answer: 1. Sheer Clothing: The trend of sheer clothing has made its way from the red carpet to street style, with designers experimenting with barely-there fabrics and see-through designs.\n",
      "\n",
      "2. Denim Reimagined: Denim trends have taken a new turn in 2023, with tailored and interesting pocket placements, along with the use of elevated fabrics like silk and organza in denim pieces.\n",
      "\n",
      "3. Bold Color Bottoms: Bright and bold color bottoms are a key trend for 2023, with shades like lime green and saffron making a statement in head-to-toe looks and accent pieces.\n"
     ]
    }
   ],
   "source": [
    "# Custom query 2\n",
    "custom_query_2 = \"Summarize three notable 2023 fashion trends.\"\n",
    "\n",
    "prompt_2 = f\"Answer the question based on the context below.\\n\\nContext:\\n{context}\\n\\nQuestion: {custom_query_2}\\nAnswer:\"\n",
    "\n",
    "start = time.time()\n",
    "try:\n",
    "    response_2 = client.chat.completions.create(\n",
    "        model=\"gpt-3.5-turbo\",\n",
    "        messages=[{\"role\": \"user\", \"content\": prompt_2}],\n",
    "        max_tokens=150\n",
    "    )\n",
    "    latency_ms = (time.time() - start) * 1000\n",
    "    answer_2 = response_2.choices[0].message.content.strip()\n",
    "    debug_print(f\"[Q2] Prompt chars: {len(prompt_2):,} | Latency: {latency_ms:.0f} ms\")\n",
    "    print(f\"Custom Query: {custom_query_2}\")\n",
    "    print(f\"Answer: {answer_2}\")\n",
    "except Exception as e:\n",
    "    print(\"Request failed:\", e)\n",
    "    traceback.print_exc()"
   ]
  },
  {
   "cell_type": "markdown",
   "id": "ae769871",
   "metadata": {},
   "source": [
    "## Custom performance demonstration\n",
    "\n",
    "We compare answers from the base model (no context) and the model with our CSV-derived context. This highlights how providing targeted context can improve relevance. Timing and prompt size are printed for quick debugging."
   ]
  },
  {
   "cell_type": "markdown",
   "id": "3de94d53",
   "metadata": {},
   "source": [
    "### Question 1"
   ]
  },
  {
   "cell_type": "code",
   "execution_count": 97,
   "id": "582f0656",
   "metadata": {},
   "outputs": [
    {
     "name": "stdout",
     "output_type": "stream",
     "text": [
      "[Q1-Base] Prompt chars: 51 | Latency: 1723 ms\n",
      "Basic Model Answer (Q1): One 2023 fashion trend that focuses on sustainability is the rise of eco-friendly materials and practices in the fashion industry. This includes a move towards using more sustainable fabrics like organic cotton, bamboo, and recycled materials, as well as implementing more environmentally friendly production processes such as waterless dyeing techniques and reducing waste in the supply chain. Additionally, there has been a push towards circular fashion, where garments are designed to be easily recycled or upcycled at the end of their life cycle. Overall, the trend towards sustainability in fashion in 2023 is all about creating a more ethical and environmentally conscious industry.\n"
     ]
    }
   ],
   "source": [
    "# No context query\n",
    "question1 = \"Which 2023 fashion trend focuses on sustainability?\"\n",
    "\n",
    "start = time.time()\n",
    "try:\n",
    "    response_basic1 = client.chat.completions.create(\n",
    "        model=\"gpt-3.5-turbo\",\n",
    "        messages=[{\"role\": \"user\", \"content\": question1}],\n",
    "        max_tokens=150\n",
    "    )\n",
    "    latency_ms = (time.time() - start) * 1000\n",
    "    answer_basic1 = response_basic1.choices[0].message.content.strip()\n",
    "    debug_print(f\"[Q1-Base] Prompt chars: {len(question1):,} | Latency: {latency_ms:.0f} ms\")\n",
    "    print(f\"Basic Model Answer (Q1): {answer_basic1}\")\n",
    "except Exception as e:\n",
    "    print(\"Request failed:\", e)\n",
    "    traceback.print_exc()"
   ]
  },
  {
   "cell_type": "code",
   "execution_count": 98,
   "id": "8b6e1f75",
   "metadata": {},
   "outputs": [
    {
     "name": "stdout",
     "output_type": "stream",
     "text": [
      "[Q1-Context] Prompt chars: 35,681 | Latency: 1583 ms\n",
      "Custom Query Answer (Q1): Some of the sustainable fashion trends for 2023 include 'Elevated Basics, ' 'Detailed Denim, ' and 'Tailored Look.'\n"
     ]
    }
   ],
   "source": [
    "# With context query\n",
    "prompt_custom1 = f\"Answer the question based on the context below.\\n\\nContext:\\n{context}\\n\\nQuestion: {question1}\\nAnswer:\"\n",
    "\n",
    "start = time.time()\n",
    "try:\n",
    "    response_custom1 = client.chat.completions.create(\n",
    "        model=\"gpt-3.5-turbo\",\n",
    "        messages=[{\"role\": \"user\", \"content\": prompt_custom1}],\n",
    "        max_tokens=150\n",
    "    )\n",
    "    latency_ms = (time.time() - start) * 1000\n",
    "    answer_custom1 = response_custom1.choices[0].message.content.strip()\n",
    "    debug_print(f\"[Q1-Context] Prompt chars: {len(prompt_custom1):,} | Latency: {latency_ms:.0f} ms\")\n",
    "    print(f\"Custom Query Answer (Q1): {answer_custom1}\")\n",
    "except Exception as e:\n",
    "    print(\"Request failed:\", e)\n",
    "    traceback.print_exc()"
   ]
  }
 ],
 "metadata": {
  "kernelspec": {
   "display_name": "Python 3",
   "language": "python",
   "name": "python3"
  },
  "language_info": {
   "codemirror_mode": {
    "name": "ipython",
    "version": 3
   },
   "file_extension": ".py",
   "mimetype": "text/x-python",
   "name": "python",
   "nbconvert_exporter": "python",
   "pygments_lexer": "ipython3",
   "version": "3.13.2"
  }
 },
 "nbformat": 4,
 "nbformat_minor": 5
}
