{
 "cells": [
  {
   "cell_type": "markdown",
   "id": "556516b4",
   "metadata": {},
   "source": [
    "# Project 4 - Personalized Real Estate Agent\n",
    "\n",
    "This notebook demonstrates the development of HomeMatch, an innovative application that uses LLMs and vector databases to generate personalized real estate listings."
   ]
  },
  {
   "cell_type": "code",
   "execution_count": 14,
   "id": "03ecc754",
   "metadata": {},
   "outputs": [
    {
     "name": "stdout",
     "output_type": "stream",
     "text": [
      "Requirement already satisfied: openai>=1.10.0 in c:\\users\\conta\\appdata\\local\\programs\\python\\python313\\lib\\site-packages (from -r requirements.txt (line 1)) (1.99.7)\n",
      "Requirement already satisfied: pandas in c:\\users\\conta\\appdata\\local\\programs\\python\\python313\\lib\\site-packages (from -r requirements.txt (line 2)) (2.3.1)\n",
      "Requirement already satisfied: chromadb==1.0.16 in c:\\users\\conta\\appdata\\local\\programs\\python\\python313\\lib\\site-packages (from -r requirements.txt (line 3)) (1.0.16)\n",
      "Requirement already satisfied: langchain==0.3.27 in c:\\users\\conta\\appdata\\local\\programs\\python\\python313\\lib\\site-packages (from -r requirements.txt (line 4)) (0.3.27)\n",
      "Requirement already satisfied: langchain-community==0.3.27 in c:\\users\\conta\\appdata\\local\\programs\\python\\python313\\lib\\site-packages (from -r requirements.txt (line 5)) (0.3.27)\n",
      "Requirement already satisfied: langchain-openai==0.3.29 in c:\\users\\conta\\appdata\\local\\programs\\python\\python313\\lib\\site-packages (from -r requirements.txt (line 6)) (0.3.29)\n",
      "Requirement already satisfied: langchain-text-splitters==0.3.9 in c:\\users\\conta\\appdata\\local\\programs\\python\\python313\\lib\\site-packages (from -r requirements.txt (line 7)) (0.3.9)\n",
      "Requirement already satisfied: build>=1.0.3 in c:\\users\\conta\\appdata\\local\\programs\\python\\python313\\lib\\site-packages (from chromadb==1.0.16->-r requirements.txt (line 3)) (1.3.0)\n",
      "Requirement already satisfied: pydantic>=1.9 in c:\\users\\conta\\appdata\\local\\programs\\python\\python313\\lib\\site-packages (from chromadb==1.0.16->-r requirements.txt (line 3)) (2.11.7)\n",
      "Requirement already satisfied: pybase64>=1.4.1 in c:\\users\\conta\\appdata\\local\\programs\\python\\python313\\lib\\site-packages (from chromadb==1.0.16->-r requirements.txt (line 3)) (1.4.2)\n",
      "Requirement already satisfied: uvicorn>=0.18.3 in c:\\users\\conta\\appdata\\local\\programs\\python\\python313\\lib\\site-packages (from uvicorn[standard]>=0.18.3->chromadb==1.0.16->-r requirements.txt (line 3)) (0.35.0)\n",
      "Requirement already satisfied: numpy>=1.22.5 in c:\\users\\conta\\appdata\\local\\programs\\python\\python313\\lib\\site-packages (from chromadb==1.0.16->-r requirements.txt (line 3)) (2.3.2)\n",
      "Requirement already satisfied: posthog<6.0.0,>=2.4.0 in c:\\users\\conta\\appdata\\local\\programs\\python\\python313\\lib\\site-packages (from chromadb==1.0.16->-r requirements.txt (line 3)) (5.4.0)\n",
      "Requirement already satisfied: typing-extensions>=4.5.0 in c:\\users\\conta\\appdata\\local\\programs\\python\\python313\\lib\\site-packages (from chromadb==1.0.16->-r requirements.txt (line 3)) (4.14.1)\n",
      "Requirement already satisfied: onnxruntime>=1.14.1 in c:\\users\\conta\\appdata\\local\\programs\\python\\python313\\lib\\site-packages (from chromadb==1.0.16->-r requirements.txt (line 3)) (1.22.1)\n",
      "Requirement already satisfied: opentelemetry-api>=1.2.0 in c:\\users\\conta\\appdata\\local\\programs\\python\\python313\\lib\\site-packages (from chromadb==1.0.16->-r requirements.txt (line 3)) (1.36.0)\n",
      "Requirement already satisfied: opentelemetry-exporter-otlp-proto-grpc>=1.2.0 in c:\\users\\conta\\appdata\\local\\programs\\python\\python313\\lib\\site-packages (from chromadb==1.0.16->-r requirements.txt (line 3)) (1.36.0)\n",
      "Requirement already satisfied: opentelemetry-sdk>=1.2.0 in c:\\users\\conta\\appdata\\local\\programs\\python\\python313\\lib\\site-packages (from chromadb==1.0.16->-r requirements.txt (line 3)) (1.36.0)\n",
      "Requirement already satisfied: tokenizers>=0.13.2 in c:\\users\\conta\\appdata\\local\\programs\\python\\python313\\lib\\site-packages (from chromadb==1.0.16->-r requirements.txt (line 3)) (0.21.4)\n",
      "Requirement already satisfied: pypika>=0.48.9 in c:\\users\\conta\\appdata\\local\\programs\\python\\python313\\lib\\site-packages (from chromadb==1.0.16->-r requirements.txt (line 3)) (0.48.9)\n",
      "Requirement already satisfied: tqdm>=4.65.0 in c:\\users\\conta\\appdata\\local\\programs\\python\\python313\\lib\\site-packages (from chromadb==1.0.16->-r requirements.txt (line 3)) (4.67.1)\n",
      "Requirement already satisfied: overrides>=7.3.1 in c:\\users\\conta\\appdata\\local\\programs\\python\\python313\\lib\\site-packages (from chromadb==1.0.16->-r requirements.txt (line 3)) (7.7.0)\n",
      "Requirement already satisfied: importlib-resources in c:\\users\\conta\\appdata\\local\\programs\\python\\python313\\lib\\site-packages (from chromadb==1.0.16->-r requirements.txt (line 3)) (6.5.2)\n",
      "Requirement already satisfied: grpcio>=1.58.0 in c:\\users\\conta\\appdata\\local\\programs\\python\\python313\\lib\\site-packages (from chromadb==1.0.16->-r requirements.txt (line 3)) (1.74.0)\n",
      "Requirement already satisfied: bcrypt>=4.0.1 in c:\\users\\conta\\appdata\\local\\programs\\python\\python313\\lib\\site-packages (from chromadb==1.0.16->-r requirements.txt (line 3)) (4.3.0)\n",
      "Requirement already satisfied: typer>=0.9.0 in c:\\users\\conta\\appdata\\local\\programs\\python\\python313\\lib\\site-packages (from chromadb==1.0.16->-r requirements.txt (line 3)) (0.16.0)\n",
      "Requirement already satisfied: kubernetes>=28.1.0 in c:\\users\\conta\\appdata\\local\\programs\\python\\python313\\lib\\site-packages (from chromadb==1.0.16->-r requirements.txt (line 3)) (33.1.0)\n",
      "Requirement already satisfied: tenacity>=8.2.3 in c:\\users\\conta\\appdata\\local\\programs\\python\\python313\\lib\\site-packages (from chromadb==1.0.16->-r requirements.txt (line 3)) (9.1.2)\n",
      "Requirement already satisfied: pyyaml>=6.0.0 in c:\\users\\conta\\appdata\\local\\programs\\python\\python313\\lib\\site-packages (from chromadb==1.0.16->-r requirements.txt (line 3)) (6.0.2)\n",
      "Requirement already satisfied: mmh3>=4.0.1 in c:\\users\\conta\\appdata\\local\\programs\\python\\python313\\lib\\site-packages (from chromadb==1.0.16->-r requirements.txt (line 3)) (5.2.0)\n",
      "Requirement already satisfied: orjson>=3.9.12 in c:\\users\\conta\\appdata\\local\\programs\\python\\python313\\lib\\site-packages (from chromadb==1.0.16->-r requirements.txt (line 3)) (3.11.1)\n",
      "Requirement already satisfied: httpx>=0.27.0 in c:\\users\\conta\\appdata\\local\\programs\\python\\python313\\lib\\site-packages (from chromadb==1.0.16->-r requirements.txt (line 3)) (0.28.1)\n",
      "Requirement already satisfied: rich>=10.11.0 in c:\\users\\conta\\appdata\\local\\programs\\python\\python313\\lib\\site-packages (from chromadb==1.0.16->-r requirements.txt (line 3)) (14.1.0)\n",
      "Requirement already satisfied: jsonschema>=4.19.0 in c:\\users\\conta\\appdata\\local\\programs\\python\\python313\\lib\\site-packages (from chromadb==1.0.16->-r requirements.txt (line 3)) (4.25.0)\n",
      "Requirement already satisfied: langchain-core<1.0.0,>=0.3.72 in c:\\users\\conta\\appdata\\local\\programs\\python\\python313\\lib\\site-packages (from langchain==0.3.27->-r requirements.txt (line 4)) (0.3.74)\n",
      "Requirement already satisfied: langsmith>=0.1.17 in c:\\users\\conta\\appdata\\local\\programs\\python\\python313\\lib\\site-packages (from langchain==0.3.27->-r requirements.txt (line 4)) (0.4.13)\n",
      "Requirement already satisfied: SQLAlchemy<3,>=1.4 in c:\\users\\conta\\appdata\\local\\programs\\python\\python313\\lib\\site-packages (from langchain==0.3.27->-r requirements.txt (line 4)) (2.0.43)\n",
      "Requirement already satisfied: requests<3,>=2 in c:\\users\\conta\\appdata\\local\\programs\\python\\python313\\lib\\site-packages (from langchain==0.3.27->-r requirements.txt (line 4)) (2.32.4)\n",
      "Requirement already satisfied: aiohttp<4.0.0,>=3.8.3 in c:\\users\\conta\\appdata\\local\\programs\\python\\python313\\lib\\site-packages (from langchain-community==0.3.27->-r requirements.txt (line 5)) (3.12.15)\n",
      "Requirement already satisfied: dataclasses-json<0.7,>=0.5.7 in c:\\users\\conta\\appdata\\local\\programs\\python\\python313\\lib\\site-packages (from langchain-community==0.3.27->-r requirements.txt (line 5)) (0.6.7)\n",
      "Requirement already satisfied: pydantic-settings<3.0.0,>=2.4.0 in c:\\users\\conta\\appdata\\local\\programs\\python\\python313\\lib\\site-packages (from langchain-community==0.3.27->-r requirements.txt (line 5)) (2.10.1)\n",
      "Requirement already satisfied: httpx-sse<1.0.0,>=0.4.0 in c:\\users\\conta\\appdata\\local\\programs\\python\\python313\\lib\\site-packages (from langchain-community==0.3.27->-r requirements.txt (line 5)) (0.4.1)\n",
      "Requirement already satisfied: tiktoken<1,>=0.7 in c:\\users\\conta\\appdata\\local\\programs\\python\\python313\\lib\\site-packages (from langchain-openai==0.3.29->-r requirements.txt (line 6)) (0.11.0)\n",
      "Requirement already satisfied: anyio<5,>=3.5.0 in c:\\users\\conta\\appdata\\local\\programs\\python\\python313\\lib\\site-packages (from openai>=1.10.0->-r requirements.txt (line 1)) (4.10.0)\n",
      "Requirement already satisfied: distro<2,>=1.7.0 in c:\\users\\conta\\appdata\\local\\programs\\python\\python313\\lib\\site-packages (from openai>=1.10.0->-r requirements.txt (line 1)) (1.9.0)\n",
      "Requirement already satisfied: jiter<1,>=0.4.0 in c:\\users\\conta\\appdata\\local\\programs\\python\\python313\\lib\\site-packages (from openai>=1.10.0->-r requirements.txt (line 1)) (0.10.0)\n",
      "Requirement already satisfied: sniffio in c:\\users\\conta\\appdata\\local\\programs\\python\\python313\\lib\\site-packages (from openai>=1.10.0->-r requirements.txt (line 1)) (1.3.1)\n",
      "Requirement already satisfied: aiohappyeyeballs>=2.5.0 in c:\\users\\conta\\appdata\\local\\programs\\python\\python313\\lib\\site-packages (from aiohttp<4.0.0,>=3.8.3->langchain-community==0.3.27->-r requirements.txt (line 5)) (2.6.1)\n",
      "Requirement already satisfied: aiosignal>=1.4.0 in c:\\users\\conta\\appdata\\local\\programs\\python\\python313\\lib\\site-packages (from aiohttp<4.0.0,>=3.8.3->langchain-community==0.3.27->-r requirements.txt (line 5)) (1.4.0)\n",
      "Requirement already satisfied: attrs>=17.3.0 in c:\\users\\conta\\appdata\\local\\programs\\python\\python313\\lib\\site-packages (from aiohttp<4.0.0,>=3.8.3->langchain-community==0.3.27->-r requirements.txt (line 5)) (25.3.0)\n",
      "Requirement already satisfied: frozenlist>=1.1.1 in c:\\users\\conta\\appdata\\local\\programs\\python\\python313\\lib\\site-packages (from aiohttp<4.0.0,>=3.8.3->langchain-community==0.3.27->-r requirements.txt (line 5)) (1.7.0)\n",
      "Requirement already satisfied: multidict<7.0,>=4.5 in c:\\users\\conta\\appdata\\local\\programs\\python\\python313\\lib\\site-packages (from aiohttp<4.0.0,>=3.8.3->langchain-community==0.3.27->-r requirements.txt (line 5)) (6.6.4)\n",
      "Requirement already satisfied: propcache>=0.2.0 in c:\\users\\conta\\appdata\\local\\programs\\python\\python313\\lib\\site-packages (from aiohttp<4.0.0,>=3.8.3->langchain-community==0.3.27->-r requirements.txt (line 5)) (0.3.2)\n",
      "Requirement already satisfied: yarl<2.0,>=1.17.0 in c:\\users\\conta\\appdata\\local\\programs\\python\\python313\\lib\\site-packages (from aiohttp<4.0.0,>=3.8.3->langchain-community==0.3.27->-r requirements.txt (line 5)) (1.20.1)\n",
      "Requirement already satisfied: idna>=2.8 in c:\\users\\conta\\appdata\\local\\programs\\python\\python313\\lib\\site-packages (from anyio<5,>=3.5.0->openai>=1.10.0->-r requirements.txt (line 1)) (3.10)\n",
      "Requirement already satisfied: marshmallow<4.0.0,>=3.18.0 in c:\\users\\conta\\appdata\\local\\programs\\python\\python313\\lib\\site-packages (from dataclasses-json<0.7,>=0.5.7->langchain-community==0.3.27->-r requirements.txt (line 5)) (3.26.1)\n",
      "Requirement already satisfied: typing-inspect<1,>=0.4.0 in c:\\users\\conta\\appdata\\local\\programs\\python\\python313\\lib\\site-packages (from dataclasses-json<0.7,>=0.5.7->langchain-community==0.3.27->-r requirements.txt (line 5)) (0.9.0)\n",
      "Requirement already satisfied: certifi in c:\\users\\conta\\appdata\\local\\programs\\python\\python313\\lib\\site-packages (from httpx>=0.27.0->chromadb==1.0.16->-r requirements.txt (line 3)) (2025.8.3)\n",
      "Requirement already satisfied: httpcore==1.* in c:\\users\\conta\\appdata\\local\\programs\\python\\python313\\lib\\site-packages (from httpx>=0.27.0->chromadb==1.0.16->-r requirements.txt (line 3)) (1.0.9)\n",
      "Requirement already satisfied: h11>=0.16 in c:\\users\\conta\\appdata\\local\\programs\\python\\python313\\lib\\site-packages (from httpcore==1.*->httpx>=0.27.0->chromadb==1.0.16->-r requirements.txt (line 3)) (0.16.0)\n",
      "Requirement already satisfied: jsonpatch<2.0,>=1.33 in c:\\users\\conta\\appdata\\local\\programs\\python\\python313\\lib\\site-packages (from langchain-core<1.0.0,>=0.3.72->langchain==0.3.27->-r requirements.txt (line 4)) (1.33)\n",
      "Requirement already satisfied: packaging>=23.2 in c:\\users\\conta\\appdata\\roaming\\python\\python313\\site-packages (from langchain-core<1.0.0,>=0.3.72->langchain==0.3.27->-r requirements.txt (line 4)) (25.0)\n",
      "Requirement already satisfied: jsonpointer>=1.9 in c:\\users\\conta\\appdata\\local\\programs\\python\\python313\\lib\\site-packages (from jsonpatch<2.0,>=1.33->langchain-core<1.0.0,>=0.3.72->langchain==0.3.27->-r requirements.txt (line 4)) (3.0.0)\n",
      "Requirement already satisfied: six>=1.5 in c:\\users\\conta\\appdata\\roaming\\python\\python313\\site-packages (from posthog<6.0.0,>=2.4.0->chromadb==1.0.16->-r requirements.txt (line 3)) (1.17.0)\n",
      "Requirement already satisfied: python-dateutil>=2.2 in c:\\users\\conta\\appdata\\roaming\\python\\python313\\site-packages (from posthog<6.0.0,>=2.4.0->chromadb==1.0.16->-r requirements.txt (line 3)) (2.9.0.post0)\n",
      "Requirement already satisfied: backoff>=1.10.0 in c:\\users\\conta\\appdata\\local\\programs\\python\\python313\\lib\\site-packages (from posthog<6.0.0,>=2.4.0->chromadb==1.0.16->-r requirements.txt (line 3)) (2.2.1)\n",
      "Requirement already satisfied: annotated-types>=0.6.0 in c:\\users\\conta\\appdata\\local\\programs\\python\\python313\\lib\\site-packages (from pydantic>=1.9->chromadb==1.0.16->-r requirements.txt (line 3)) (0.7.0)\n",
      "Requirement already satisfied: pydantic-core==2.33.2 in c:\\users\\conta\\appdata\\local\\programs\\python\\python313\\lib\\site-packages (from pydantic>=1.9->chromadb==1.0.16->-r requirements.txt (line 3)) (2.33.2)\n",
      "Requirement already satisfied: typing-inspection>=0.4.0 in c:\\users\\conta\\appdata\\local\\programs\\python\\python313\\lib\\site-packages (from pydantic>=1.9->chromadb==1.0.16->-r requirements.txt (line 3)) (0.4.1)\n",
      "Requirement already satisfied: python-dotenv>=0.21.0 in c:\\users\\conta\\appdata\\local\\programs\\python\\python313\\lib\\site-packages (from pydantic-settings<3.0.0,>=2.4.0->langchain-community==0.3.27->-r requirements.txt (line 5)) (1.1.1)\n",
      "Requirement already satisfied: charset_normalizer<4,>=2 in c:\\users\\conta\\appdata\\local\\programs\\python\\python313\\lib\\site-packages (from requests<3,>=2->langchain==0.3.27->-r requirements.txt (line 4)) (3.4.3)\n",
      "Requirement already satisfied: urllib3<3,>=1.21.1 in c:\\users\\conta\\appdata\\local\\programs\\python\\python313\\lib\\site-packages (from requests<3,>=2->langchain==0.3.27->-r requirements.txt (line 4)) (2.5.0)\n",
      "Requirement already satisfied: greenlet>=1 in c:\\users\\conta\\appdata\\local\\programs\\python\\python313\\lib\\site-packages (from SQLAlchemy<3,>=1.4->langchain==0.3.27->-r requirements.txt (line 4)) (3.2.4)\n",
      "Requirement already satisfied: regex>=2022.1.18 in c:\\users\\conta\\appdata\\local\\programs\\python\\python313\\lib\\site-packages (from tiktoken<1,>=0.7->langchain-openai==0.3.29->-r requirements.txt (line 6)) (2025.7.34)\n",
      "Requirement already satisfied: mypy-extensions>=0.3.0 in c:\\users\\conta\\appdata\\local\\programs\\python\\python313\\lib\\site-packages (from typing-inspect<1,>=0.4.0->dataclasses-json<0.7,>=0.5.7->langchain-community==0.3.27->-r requirements.txt (line 5)) (1.1.0)\n",
      "Requirement already satisfied: pytz>=2020.1 in c:\\users\\conta\\appdata\\local\\programs\\python\\python313\\lib\\site-packages (from pandas->-r requirements.txt (line 2)) (2025.2)\n",
      "Requirement already satisfied: tzdata>=2022.7 in c:\\users\\conta\\appdata\\local\\programs\\python\\python313\\lib\\site-packages (from pandas->-r requirements.txt (line 2)) (2025.2)\n",
      "Requirement already satisfied: pyproject_hooks in c:\\users\\conta\\appdata\\local\\programs\\python\\python313\\lib\\site-packages (from build>=1.0.3->chromadb==1.0.16->-r requirements.txt (line 3)) (1.2.0)\n",
      "Requirement already satisfied: colorama in c:\\users\\conta\\appdata\\roaming\\python\\python313\\site-packages (from build>=1.0.3->chromadb==1.0.16->-r requirements.txt (line 3)) (0.4.6)\n",
      "Requirement already satisfied: jsonschema-specifications>=2023.03.6 in c:\\users\\conta\\appdata\\local\\programs\\python\\python313\\lib\\site-packages (from jsonschema>=4.19.0->chromadb==1.0.16->-r requirements.txt (line 3)) (2025.4.1)\n",
      "Requirement already satisfied: referencing>=0.28.4 in c:\\users\\conta\\appdata\\local\\programs\\python\\python313\\lib\\site-packages (from jsonschema>=4.19.0->chromadb==1.0.16->-r requirements.txt (line 3)) (0.36.2)\n",
      "Requirement already satisfied: rpds-py>=0.7.1 in c:\\users\\conta\\appdata\\local\\programs\\python\\python313\\lib\\site-packages (from jsonschema>=4.19.0->chromadb==1.0.16->-r requirements.txt (line 3)) (0.27.0)\n",
      "Requirement already satisfied: google-auth>=1.0.1 in c:\\users\\conta\\appdata\\local\\programs\\python\\python313\\lib\\site-packages (from kubernetes>=28.1.0->chromadb==1.0.16->-r requirements.txt (line 3)) (2.40.3)\n",
      "Requirement already satisfied: websocket-client!=0.40.0,!=0.41.*,!=0.42.*,>=0.32.0 in c:\\users\\conta\\appdata\\local\\programs\\python\\python313\\lib\\site-packages (from kubernetes>=28.1.0->chromadb==1.0.16->-r requirements.txt (line 3)) (1.8.0)\n",
      "Requirement already satisfied: requests-oauthlib in c:\\users\\conta\\appdata\\local\\programs\\python\\python313\\lib\\site-packages (from kubernetes>=28.1.0->chromadb==1.0.16->-r requirements.txt (line 3)) (2.0.0)\n",
      "Requirement already satisfied: oauthlib>=3.2.2 in c:\\users\\conta\\appdata\\local\\programs\\python\\python313\\lib\\site-packages (from kubernetes>=28.1.0->chromadb==1.0.16->-r requirements.txt (line 3)) (3.3.1)\n",
      "Requirement already satisfied: durationpy>=0.7 in c:\\users\\conta\\appdata\\local\\programs\\python\\python313\\lib\\site-packages (from kubernetes>=28.1.0->chromadb==1.0.16->-r requirements.txt (line 3)) (0.10)\n",
      "Requirement already satisfied: cachetools<6.0,>=2.0.0 in c:\\users\\conta\\appdata\\local\\programs\\python\\python313\\lib\\site-packages (from google-auth>=1.0.1->kubernetes>=28.1.0->chromadb==1.0.16->-r requirements.txt (line 3)) (5.5.2)\n",
      "Requirement already satisfied: pyasn1-modules>=0.2.1 in c:\\users\\conta\\appdata\\local\\programs\\python\\python313\\lib\\site-packages (from google-auth>=1.0.1->kubernetes>=28.1.0->chromadb==1.0.16->-r requirements.txt (line 3)) (0.4.2)\n",
      "Requirement already satisfied: rsa<5,>=3.1.4 in c:\\users\\conta\\appdata\\local\\programs\\python\\python313\\lib\\site-packages (from google-auth>=1.0.1->kubernetes>=28.1.0->chromadb==1.0.16->-r requirements.txt (line 3)) (4.9.1)\n",
      "Requirement already satisfied: pyasn1>=0.1.3 in c:\\users\\conta\\appdata\\local\\programs\\python\\python313\\lib\\site-packages (from rsa<5,>=3.1.4->google-auth>=1.0.1->kubernetes>=28.1.0->chromadb==1.0.16->-r requirements.txt (line 3)) (0.6.1)\n",
      "Requirement already satisfied: requests-toolbelt>=1.0.0 in c:\\users\\conta\\appdata\\local\\programs\\python\\python313\\lib\\site-packages (from langsmith>=0.1.17->langchain==0.3.27->-r requirements.txt (line 4)) (1.0.0)\n",
      "Requirement already satisfied: zstandard>=0.23.0 in c:\\users\\conta\\appdata\\local\\programs\\python\\python313\\lib\\site-packages (from langsmith>=0.1.17->langchain==0.3.27->-r requirements.txt (line 4)) (0.23.0)\n",
      "Requirement already satisfied: coloredlogs in c:\\users\\conta\\appdata\\local\\programs\\python\\python313\\lib\\site-packages (from onnxruntime>=1.14.1->chromadb==1.0.16->-r requirements.txt (line 3)) (15.0.1)\n",
      "Requirement already satisfied: flatbuffers in c:\\users\\conta\\appdata\\local\\programs\\python\\python313\\lib\\site-packages (from onnxruntime>=1.14.1->chromadb==1.0.16->-r requirements.txt (line 3)) (25.2.10)\n",
      "Requirement already satisfied: protobuf in c:\\users\\conta\\appdata\\local\\programs\\python\\python313\\lib\\site-packages (from onnxruntime>=1.14.1->chromadb==1.0.16->-r requirements.txt (line 3)) (6.31.1)\n",
      "Requirement already satisfied: sympy in c:\\users\\conta\\appdata\\local\\programs\\python\\python313\\lib\\site-packages (from onnxruntime>=1.14.1->chromadb==1.0.16->-r requirements.txt (line 3)) (1.14.0)\n",
      "Requirement already satisfied: importlib-metadata<8.8.0,>=6.0 in c:\\users\\conta\\appdata\\local\\programs\\python\\python313\\lib\\site-packages (from opentelemetry-api>=1.2.0->chromadb==1.0.16->-r requirements.txt (line 3)) (8.7.0)\n",
      "Requirement already satisfied: zipp>=3.20 in c:\\users\\conta\\appdata\\local\\programs\\python\\python313\\lib\\site-packages (from importlib-metadata<8.8.0,>=6.0->opentelemetry-api>=1.2.0->chromadb==1.0.16->-r requirements.txt (line 3)) (3.23.0)\n",
      "Requirement already satisfied: googleapis-common-protos~=1.57 in c:\\users\\conta\\appdata\\local\\programs\\python\\python313\\lib\\site-packages (from opentelemetry-exporter-otlp-proto-grpc>=1.2.0->chromadb==1.0.16->-r requirements.txt (line 3)) (1.70.0)\n",
      "Requirement already satisfied: opentelemetry-exporter-otlp-proto-common==1.36.0 in c:\\users\\conta\\appdata\\local\\programs\\python\\python313\\lib\\site-packages (from opentelemetry-exporter-otlp-proto-grpc>=1.2.0->chromadb==1.0.16->-r requirements.txt (line 3)) (1.36.0)\n",
      "Requirement already satisfied: opentelemetry-proto==1.36.0 in c:\\users\\conta\\appdata\\local\\programs\\python\\python313\\lib\\site-packages (from opentelemetry-exporter-otlp-proto-grpc>=1.2.0->chromadb==1.0.16->-r requirements.txt (line 3)) (1.36.0)\n",
      "Requirement already satisfied: opentelemetry-semantic-conventions==0.57b0 in c:\\users\\conta\\appdata\\local\\programs\\python\\python313\\lib\\site-packages (from opentelemetry-sdk>=1.2.0->chromadb==1.0.16->-r requirements.txt (line 3)) (0.57b0)\n",
      "Requirement already satisfied: markdown-it-py>=2.2.0 in c:\\users\\conta\\appdata\\local\\programs\\python\\python313\\lib\\site-packages (from rich>=10.11.0->chromadb==1.0.16->-r requirements.txt (line 3)) (4.0.0)\n",
      "Requirement already satisfied: pygments<3.0.0,>=2.13.0 in c:\\users\\conta\\appdata\\roaming\\python\\python313\\site-packages (from rich>=10.11.0->chromadb==1.0.16->-r requirements.txt (line 3)) (2.19.2)\n",
      "Requirement already satisfied: mdurl~=0.1 in c:\\users\\conta\\appdata\\local\\programs\\python\\python313\\lib\\site-packages (from markdown-it-py>=2.2.0->rich>=10.11.0->chromadb==1.0.16->-r requirements.txt (line 3)) (0.1.2)\n",
      "Requirement already satisfied: huggingface-hub<1.0,>=0.16.4 in c:\\users\\conta\\appdata\\local\\programs\\python\\python313\\lib\\site-packages (from tokenizers>=0.13.2->chromadb==1.0.16->-r requirements.txt (line 3)) (0.34.4)\n",
      "Requirement already satisfied: filelock in c:\\users\\conta\\appdata\\local\\programs\\python\\python313\\lib\\site-packages (from huggingface-hub<1.0,>=0.16.4->tokenizers>=0.13.2->chromadb==1.0.16->-r requirements.txt (line 3)) (3.18.0)\n",
      "Requirement already satisfied: fsspec>=2023.5.0 in c:\\users\\conta\\appdata\\local\\programs\\python\\python313\\lib\\site-packages (from huggingface-hub<1.0,>=0.16.4->tokenizers>=0.13.2->chromadb==1.0.16->-r requirements.txt (line 3)) (2025.3.0)\n",
      "Requirement already satisfied: click>=8.0.0 in c:\\users\\conta\\appdata\\local\\programs\\python\\python313\\lib\\site-packages (from typer>=0.9.0->chromadb==1.0.16->-r requirements.txt (line 3)) (8.2.1)\n",
      "Requirement already satisfied: shellingham>=1.3.0 in c:\\users\\conta\\appdata\\local\\programs\\python\\python313\\lib\\site-packages (from typer>=0.9.0->chromadb==1.0.16->-r requirements.txt (line 3)) (1.5.4)\n",
      "Requirement already satisfied: httptools>=0.6.3 in c:\\users\\conta\\appdata\\local\\programs\\python\\python313\\lib\\site-packages (from uvicorn[standard]>=0.18.3->chromadb==1.0.16->-r requirements.txt (line 3)) (0.6.4)\n",
      "Requirement already satisfied: watchfiles>=0.13 in c:\\users\\conta\\appdata\\local\\programs\\python\\python313\\lib\\site-packages (from uvicorn[standard]>=0.18.3->chromadb==1.0.16->-r requirements.txt (line 3)) (1.1.0)\n",
      "Requirement already satisfied: websockets>=10.4 in c:\\users\\conta\\appdata\\local\\programs\\python\\python313\\lib\\site-packages (from uvicorn[standard]>=0.18.3->chromadb==1.0.16->-r requirements.txt (line 3)) (15.0.1)\n",
      "Requirement already satisfied: humanfriendly>=9.1 in c:\\users\\conta\\appdata\\local\\programs\\python\\python313\\lib\\site-packages (from coloredlogs->onnxruntime>=1.14.1->chromadb==1.0.16->-r requirements.txt (line 3)) (10.0)\n",
      "Requirement already satisfied: pyreadline3 in c:\\users\\conta\\appdata\\local\\programs\\python\\python313\\lib\\site-packages (from humanfriendly>=9.1->coloredlogs->onnxruntime>=1.14.1->chromadb==1.0.16->-r requirements.txt (line 3)) (3.5.4)\n",
      "Requirement already satisfied: mpmath<1.4,>=1.1.0 in c:\\users\\conta\\appdata\\local\\programs\\python\\python313\\lib\\site-packages (from sympy->onnxruntime>=1.14.1->chromadb==1.0.16->-r requirements.txt (line 3)) (1.3.0)\n",
      "Note: you may need to restart the kernel to use updated packages.\n"
     ]
    }
   ],
   "source": [
    "%pip install -r requirements.txt"
   ]
  },
  {
   "cell_type": "code",
   "execution_count": null,
   "id": "106f29dd",
   "metadata": {},
   "outputs": [
    {
     "name": "stdout",
     "output_type": "stream",
     "text": [
      "Using base URL: https://openai.vocareum.com/v1\n",
      "API key starts with: voc-...\n"
     ]
    }
   ],
   "source": [
    "# Import Required Libraries and Set Up Environment\n",
    "import os\n",
    "import chromadb\n",
    "from chromadb.config import Settings\n",
    "from openai import OpenAI\n",
    "\n",
    "BASE_URL = os.getenv(\"OPENAI_BASE_URL\", \"https://openai.vocareum.com/v1\")\n",
    "API_KEY = os.getenv(\"OPENAI_API_KEY\", \"\").strip()\n",
    "if not API_KEY:\n",
    "    raise ValueError(\"OPENAI_API_KEY is not set. Please set it in your environment.\")\n",
    "\n",
    "client = OpenAI(base_url=BASE_URL, api_key=API_KEY)\n",
    "\n",
    "def _obfuscate(key: str, show: int = 4) -> str:\n",
    "    return (key[:show] + \"...\") if key else \"\"\n",
    "\n",
    "print(f\"Using base URL: {BASE_URL}\")\n",
    "print(f\"API key starts with: {_obfuscate(API_KEY)}\")"
   ]
  },
  {
   "cell_type": "markdown",
   "id": "f64cf60b",
   "metadata": {},
   "source": [
    "## Step 2: Generate Synthetic Real Estate Listings\n",
    "\n",
    "We'll use an LLM to generate at least 10 synthetic property listings for our database."
   ]
  },
  {
   "cell_type": "code",
   "execution_count": 16,
   "id": "8280d8ec",
   "metadata": {},
   "outputs": [
    {
     "name": "stdout",
     "output_type": "stream",
     "text": [
      "1. Neighborhood: West Hollywood, Los Angeles\n",
      "   Price: $1,200,000\n",
      "   Bedrooms: 3\n",
      "   Bathrooms: 2\n",
      "   Size: 1,800 sqft\n",
      "   Description: Stunning modern home in the heart of West Hollywood. This newly renovated property features an open floor plan, gourmet kitchen, and luxurious master suite.\n"
     ]
    }
   ],
   "source": [
    "# Prompt for generating listings\n",
    "listing_prompt = \"\"\"Generate a real estate listing with the following format:\\nNeighborhood: [name]\\nPrice: [amount]\\nBedrooms: [number]\\nBathrooms: [number]\\nHouse Size: [size]\\nDescription: [description]\\nNeighborhood Description: [description]\"\"\"\n",
    "\n",
    "# Save listings to a file for deliverables\n",
    "def generate_listings(n: int = 10) -> list:\n",
    "    prompt = f\"\"\"\n",
    "        Generate {n} diverse real estate listings with neighborhood,\n",
    "        price, bedrooms, bathrooms, size, and description.\n",
    "    \"\"\"\n",
    "    response = client.chat.completions.create(\n",
    "        model=\"gpt-3.5-turbo\",\n",
    "        messages=[{\"role\": \"user\", \"content\": prompt}],\n",
    "        max_tokens=1500  \n",
    "    )\n",
    "    text = response.choices[0].message.content\n",
    "    if text is not None:\n",
    "        listings = text.split(\"\\n\\n\")\n",
    "        with open(\"listings.txt\", \"w\") as f:\n",
    "            for listing in listings:\n",
    "                f.write(listing + \"\\n\\n\")\n",
    "        return listings\n",
    "    else:\n",
    "        print(\"No content returned from OpenAI API.\")\n",
    "        return []\n",
    "\n",
    "listings = generate_listings()\n",
    "print(listings[0])"
   ]
  },
  {
   "cell_type": "markdown",
   "id": "7bd2e62d",
   "metadata": {},
   "source": [
    "## Step 3: Store Listings in a Vector Database\n",
    "\n",
    "We'll use ChromaDB to store the listings and their embeddings."
   ]
  },
  {
   "cell_type": "code",
   "execution_count": 17,
   "id": "434db31a",
   "metadata": {},
   "outputs": [
    {
     "name": "stdout",
     "output_type": "stream",
     "text": [
      "Stored 10 listings in ChromaDB.\n"
     ]
    }
   ],
   "source": [
    "# Load listings from file\n",
    "with open(\"listings.txt\", \"r\") as f:\n",
    "    listings = [l.strip() for l in f.read().split(\"\\n\\n\") if l.strip()]\n",
    "\n",
    "# Generate embeddings for each listing using OpenAI API\n",
    "def get_embedding(text, model=\"text-embedding-ada-002\"):\n",
    "    response = client.embeddings.create(\n",
    "        input=text,\n",
    "        model=model\n",
    "    )\n",
    "    return response.data[0].embedding\n",
    "\n",
    "embeddings = [get_embedding(listing) for listing in listings]\n",
    "\n",
    "# Initialize and configure ChromaDB\n",
    "chromadbClient = chromadb.Client(Settings())\n",
    "collection = chromadbClient.get_or_create_collection(name=\"home_listings\")\n",
    "\n",
    "# Store listings and embeddings in ChromaDB\n",
    "for idx, (listing, embedding) in enumerate(zip(listings, embeddings)):\n",
    "    collection.add(\n",
    "        documents=[listing],\n",
    "        embeddings=[embedding],\n",
    "        ids=[str(idx)]\n",
    "    )\n",
    "\n",
    "print(f\"Stored {len(listings)} listings in ChromaDB.\")"
   ]
  },
  {
   "cell_type": "markdown",
   "id": "f2d9d57d",
   "metadata": {},
   "source": [
    "## Step 4: Collect Buyer Preferences"
   ]
  },
  {
   "cell_type": "code",
   "execution_count": 18,
   "id": "d782c4ac",
   "metadata": {},
   "outputs": [],
   "source": [
    "questions = [\n",
    "    \"How big do you want your house to be?\",\n",
    "    \"What are 3 most important things for you in choosing this property?\",\n",
    "    \"Which amenities would you like?\",\n",
    "    \"Which transportation options are important to you?\",\n",
    "    \"How urban do you want your neighborhood to be?\",\n",
    "]\n",
    "answers = [\n",
    "    \"A comfortable three-bedroom house with a spacious kitchen and a cozy living room.\",\n",
    "    \"A quiet neighborhood, good local schools, and convenient shopping options.\",\n",
    "    \"A backyard for gardening, a two-car garage, and a modern, energy-efficient heating system.\",\n",
    "    \"Easy access to a reliable bus line, proximity to a major highway, and bike-friendly roads.\",\n",
    "    \"A balance between suburban tranquility and access to urban amenities like restaurants and theaters.\",\n",
    "]\n",
    "buyer_profile = \" \".join(answers)"
   ]
  },
  {
   "cell_type": "markdown",
   "id": "1545eba8",
   "metadata": {},
   "source": [
    "## Step 5: Semantic Search for Matching Listings"
   ]
  },
  {
   "cell_type": "code",
   "execution_count": 19,
   "id": "d2aee0c5",
   "metadata": {},
   "outputs": [
    {
     "name": "stdout",
     "output_type": "stream",
     "text": [
      "- Matched Listing 1 (Similarity Score: 0.3701) -\n",
      "6. Neighborhood: Capitol Hill, Seattle, WA\n",
      "   Price: $1,200,000\n",
      "   Bedrooms: 4\n",
      "   Bathrooms: 3\n",
      "   Size: 2,000 sq. ft.\n",
      "   Description: Craftsman-style home with a spacious backyard and covered porch. Features a chef's kitchen, hardwood floors, and a master suite with a soaking tub.\n",
      "\n",
      "- Matched Listing 2 (Similarity Score: 0.3831) -\n",
      "4. Neighborhood: Old Town, Alexandria, VA\n",
      "   Price: $700,000\n",
      "   Bedrooms: 3\n",
      "   Bathrooms: 2.5\n",
      "   Size: 1,800 sq. ft.\n",
      "   Description: Charming historic townhouse with a brick facade and updated interior. Features a fenced backyard, gourmet kitchen, and original wood floors.\n",
      "\n",
      "- Matched Listing 3 (Similarity Score: 0.3885) -\n",
      "7. Neighborhood: Park Slope, Brooklyn, NY\n",
      "   Price: $1,300,000\n",
      "   Bedrooms: 3\n",
      "   Bathrooms: 2\n",
      "   Size: 1,600 sq. ft.\n",
      "   Description: Renovated brownstone apartment with exposed brick walls and a private terrace. Located near Prospect Park, top-rated schools, and trendy boutiques.\n",
      "\n",
      "- Matched Listing 4 (Similarity Score: 0.4006) -\n",
      "10. Neighborhood: Downtown Austin, TX\n",
      "    Price: $600,000\n",
      "    Bedrooms: 2\n",
      "    Bathrooms: 2\n",
      "    Size: 1,200 sq. ft.\n",
      "    Description: Modern condo with skyline views and a private balcony. Building amenities include a pool, fitness center, and rooftop terrace. Located near top restaurants, live music venues, and Lady Bird Lake.\n",
      "\n",
      "- Matched Listing 5 (Similarity Score: 0.4061) -\n",
      "5. Neighborhood: South Loop, Chicago, IL\n",
      "   Price: $550,000\n",
      "   Bedrooms: 2\n",
      "   Bathrooms: 2\n",
      "   Size: 1,400 sq. ft.\n",
      "   Description: Contemporary loft-style condo with floor-to-ceiling windows and skyline views. Building amenities include a rooftop pool and fitness center.\n",
      "\n"
     ]
    }
   ],
   "source": [
    "# Convert buyer preferences to embedding\n",
    "buyer_embedding = get_embedding(buyer_profile)\n",
    "\n",
    "# Query ChromaDB for top 5 most relevant listings\n",
    "results = collection.query(\n",
    "    query_embeddings=[buyer_embedding],\n",
    "    n_results=5\n",
    ")\n",
    "\n",
    "matched_listings = results['documents'][0]\n",
    "matched_scores = results['distances'][0]\n",
    "\n",
    "# Display matched listings and their similarity scores\n",
    "for i, (listing, score) in enumerate(zip(matched_listings, matched_scores)):\n",
    "    print(f\"- Matched Listing {i+1} (Similarity Score: {score:.4f}) -\\n{listing}\\n\")"
   ]
  },
  {
   "cell_type": "markdown",
   "id": "f2c80590",
   "metadata": {},
   "source": [
    "## Step 6: Personalize Listing Descriptions"
   ]
  },
  {
   "cell_type": "code",
   "execution_count": 20,
   "id": "9ac3b585",
   "metadata": {},
   "outputs": [
    {
     "name": "stdout",
     "output_type": "stream",
     "text": [
      "- Personalized Listing 1 -\n",
      "Ideal for the discerning buyer seeking a comfortable three-bedroom home with a spacious kitchen and cozy living room. Located in a quiet neighborhood with good local schools and convenient shopping options. This property boasts a backyard perfect for gardening, a two-car garage, and a modern, energy-efficient heating system. Enjoy easy access to a reliable bus line, proximity to a major highway, and bike-friendly roads. Experience suburban tranquility while still having access to urban amenities like restaurants and theaters.\n",
      "\n",
      "- Personalized Listing 2 -\n",
      "Ideal for the discerning buyer seeking a comfortable three-bedroom home in a quiet neighborhood, this charming historic townhouse in Old Town, Alexandria, VA ticks all the boxes. The spacious kitchen is perfect for those who love to cook and entertain, while the cozy living room offers a welcoming retreat. With good local schools nearby and convenient shopping options just a stone's throw away, this home offers the perfect combination of suburban tranquility and urban amenities. The fenced backyard is ideal for gardening, and the two-car garage provides ample storage space. Stay cozy in the winter with the modern, energy-efficient heating system. Easy access to a reliable bus line, proximity to a major highway, and bike-friendly roads make commuting a breeze. Don't miss out on this rare find that combines historic charm with modern convenience.\n",
      "\n",
      "- Personalized Listing 3 -\n",
      "Ideal for the discerning buyer seeking a comfortable three-bedroom house with a spacious kitchen and cozy living room. Situated in a quiet neighborhood with good local schools and convenient shopping options. Enjoy a backyard for gardening, a two-car garage, and a modern, energy-efficient heating system. This home offers easy access to a reliable bus line, proximity to a major highway, and bike-friendly roads. Experience a perfect balance between suburban tranquility and access to urban amenities like restaurants and theaters. Don't miss out on this opportunity in the sought-after Park Slope neighborhood of Brooklyn, NY.\n",
      "\n",
      "- Personalized Listing 4 -\n",
      "Ideal home for buyers seeking a comfortable three-bedroom house with a spacious kitchen and cozy living room in a quiet neighborhood. Good local schools, convenient shopping options, and a backyard for gardening included. Features a two-car garage and modern, energy-efficient heating system. Easy access to a reliable bus line, proximity to a major highway, and bike-friendly roads. Enjoy a balance between suburban tranquility and access to urban amenities like restaurants and theaters. Note: This listing does not meet all buyer preferences.\n",
      "\n",
      "- Personalized Listing 5 -\n",
      "Buyer Preferences: This contemporary loft-style condo in the South Loop of Chicago offers stunning views of the city skyline through floor-to-ceiling windows. While it currently has 2 bedrooms, it has the potential for a third bedroom with some modifications. The building amenities, such as a rooftop pool and fitness center, cater to active individuals looking for convenience. However, for those seeking a comfortable three-bedroom house with a cozy living room and spacious kitchen, this property may not meet all of your needs. Furthermore, the bustling urban environment may not provide the quiet neighborhood setting you desire.\n",
      "\n"
     ]
    }
   ],
   "source": [
    "# Personalize Listing Descriptions using LLM\n",
    "personalized_listings = []\n",
    "for listing in matched_listings:\n",
    "    prompt = f\"Rewrite the following real estate listing to emphasize the buyer's preferences below, without changing any factual details.\\n\\nBuyer Preferences: {buyer_profile}\\n\\nListing: {listing}\\n\\nPersonalized Description:\"\n",
    "    response = client.chat.completions.create(\n",
    "        model=\"gpt-3.5-turbo\",\n",
    "        messages=[{\"role\": \"user\", \"content\": prompt}],\n",
    "        max_tokens=500\n",
    "    )\n",
    "    personalized = response.choices[0].message.content.strip()\n",
    "    personalized_listings.append(personalized)\n",
    "\n",
    "# Display personalized listings\n",
    "for i, pl in enumerate(personalized_listings):\n",
    "    print(f\"- Personalized Listing {i+1} -\\n{pl}\\n\")"
   ]
  },
  {
   "cell_type": "code",
   "execution_count": null,
   "id": "8c431a26",
   "metadata": {},
   "outputs": [],
   "source": []
  }
 ],
 "metadata": {
  "kernelspec": {
   "display_name": "Python 3",
   "language": "python",
   "name": "python3"
  },
  "language_info": {
   "codemirror_mode": {
    "name": "ipython",
    "version": 3
   },
   "file_extension": ".py",
   "mimetype": "text/x-python",
   "name": "python",
   "nbconvert_exporter": "python",
   "pygments_lexer": "ipython3",
   "version": "3.13.2"
  }
 },
 "nbformat": 4,
 "nbformat_minor": 5
}
